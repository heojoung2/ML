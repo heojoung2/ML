{
 "cells": [
  {
   "cell_type": "code",
   "execution_count": 2,
   "metadata": {
    "collapsed": true
   },
   "outputs": [],
   "source": [
    "from pandas import Series,DataFrame\n",
    "import pandas as pd\n",
    "import os\n",
    "import math"
   ]
  },
  {
   "cell_type": "code",
   "execution_count": 3,
   "metadata": {
    "collapsed": true
   },
   "outputs": [],
   "source": [
    "NAN=-1\n",
    "data_path=\"C:/Users/heo/Desktop/Mosquito/mosquito_data/\"\n",
    "data_list = os.listdir(data_path)"
   ]
  },
  {
   "cell_type": "code",
   "execution_count": 4,
   "metadata": {
    "collapsed": true
   },
   "outputs": [],
   "source": [
    "weather = pd.read_csv(\"C:/Users/heo/Desktop/Mosquito/weather_data.csv\",encoding = \"euc-kr\")"
   ]
  },
  {
   "cell_type": "code",
   "execution_count": 5,
   "metadata": {
    "collapsed": true
   },
   "outputs": [],
   "source": [
    "del weather['지점']\n",
    "weather.loc[weather.강수량 == ' ', '강수량'] = 0\n",
    "\n",
    "weather.columns = ['Date','Hum','Raf','Tmx','Tav','Tmi']\n",
    "weather['Date'] = pd.to_datetime(weather['Date'])\n",
    "\n",
    "weather = weather.set_index(\"Date\")\n",
    "weather['Raf'] = weather['Raf'].astype(float)"
   ]
  },
  {
   "cell_type": "code",
   "execution_count": 6,
   "metadata": {
    "collapsed": true
   },
   "outputs": [],
   "source": [
    "def Accumulation(weather, name, threshold):\n",
    "    accumulation_list=[]\n",
    "    index_num=0\n",
    "    for index, row in weather.iterrows():\n",
    "        if index_num < threshold:\n",
    "            accumulation_list.append(weather.iloc[0:index_num][name].sum())\n",
    "        else:\n",
    "            accumulation_list.append(weather.iloc[index_num - threshold:index_num][name].sum())\n",
    "        index_num += 1\n",
    "    weather.insert(0, name+str(threshold), accumulation_list)"
   ]
  },
  {
   "cell_type": "code",
   "execution_count": 7,
   "metadata": {
    "collapsed": true
   },
   "outputs": [],
   "source": [
    "name_list=['Tmx','Tmi','Tav','Raf','Hum']\n",
    "threshold_list=[19,2,16,6,5]\n",
    "for name,threshold in zip(name_list,threshold_list):\n",
    "    Accumulation(weather,name,threshold)"
   ]
  },
  {
   "cell_type": "code",
   "execution_count": 8,
   "metadata": {
    "collapsed": true
   },
   "outputs": [],
   "source": [
    "accumulation_list = []\n",
    "index_num = 0\n",
    "for index, row in weather.iterrows():\n",
    "    cnt=0\n",
    "    if index_num < 29:\n",
    "        for i in range(0,index_num):\n",
    "            if weather['Raf'][i]>0.0:\n",
    "                cnt+=1\n",
    "    else:\n",
    "        for i in range(index_num-29,index_num):\n",
    "            if weather['Raf'][i]>0.0:\n",
    "                cnt+=1\n",
    "    accumulation_list.append(cnt)\n",
    "    index_num += 1\n",
    "weather.insert(2, 'RfD29', accumulation_list)"
   ]
  },
  {
   "cell_type": "code",
   "execution_count": 9,
   "metadata": {
    "collapsed": true
   },
   "outputs": [],
   "source": [
    "for i in name_list:\n",
    "    del weather[i]"
   ]
  },
  {
   "cell_type": "code",
   "execution_count": 10,
   "metadata": {
    "collapsed": true
   },
   "outputs": [],
   "source": [
    "def Processing(name,weather):\n",
    "    mosquito = pd.read_csv(data_path+name,names=['Date','Mosq'])\n",
    "    mosquito['Date'] = pd.to_datetime(mosquito['Date'])\n",
    "    mosquito = mosquito.set_index(\"Date\")\n",
    "    mosquito = mosquito.resample('D').sum()\n",
    "    mosquito.insert(0, 'Location', name[:-11])\n",
    "    mosquito.insert(1,\"LandUse\",name[-10:-9])\n",
    "\n",
    "    for index, row in mosquito.iterrows():\n",
    "        if 1000 < row['Mosq'] and row['Mosq']<10000:\n",
    "            mosquito.set_value(index,'Mosq',1000)\n",
    "\n",
    "    for index, row in mosquito.iterrows():\n",
    "        if row['Mosq'] >= 10000:\n",
    "            month = str(index)[:7]\n",
    "            mosquito.set_value(index, 'Mosq', int(mosquito[month]['Mosq'].mean()))\n",
    "\n",
    "        mosquito = mosquito.fillna(NAN)\n",
    "    for index, row in mosquito.iterrows():\n",
    "        if row['Mosq'] ==-1:\n",
    "            month = str(index)[:7]\n",
    "            value = int(mosquito[month]['Mosq'].mean())\n",
    "            if value==-1:\n",
    "                mosquito.set_value(index, 'Mosq', 0)\n",
    "            else:\n",
    "                mosquito.set_value(index, 'Mosq', value)\n",
    "\n",
    "    mosquito = pd.concat([mosquito, weather], axis=1, join=\"inner\")\n",
    "    return mosquito"
   ]
  },
  {
   "cell_type": "code",
   "execution_count": 11,
   "metadata": {
    "collapsed": true
   },
   "outputs": [],
   "source": [
    "concat_list=[]\n",
    "for name in data_list:\n",
    "    concat_list.append(Processing(name,weather))\n",
    "mosquito = pd.concat(concat_list)"
   ]
  },
  {
   "cell_type": "code",
   "execution_count": 12,
   "metadata": {
    "collapsed": true
   },
   "outputs": [],
   "source": [
    "mosquito = mosquito[['Location','Hum5','Raf6','RfD29','Tav16','Tmi2','Tmx19','Mosq',\"LandUse\"]]"
   ]
  },
  {
   "cell_type": "code",
   "execution_count": 13,
   "metadata": {
    "collapsed": true
   },
   "outputs": [],
   "source": [
    "level=[]\n",
    "for row in mosquito['Mosq']:\n",
    "    if row <=20:\n",
    "        level.append(1)\n",
    "    else:\n",
    "        level.append(math.ceil(math.log(row/10,2)))\n",
    "mosquito['level']=level\n",
    "del mosquito['Mosq']"
   ]
  },
  {
   "cell_type": "code",
   "execution_count": 14,
   "metadata": {
    "collapsed": true
   },
   "outputs": [],
   "source": [
    "mosquito['Date'] = mosquito.index\n",
    "mosquito = mosquito.set_index(\"Location\")\n",
    "mosquito.index.name = \"Location\"\n",
    "mosquito = mosquito[['Date','Hum5','Raf6','RfD29','Tav16','Tmi2','Tmx19',\"LandUse\",\"level\"]]"
   ]
  },
  {
   "cell_type": "code",
   "execution_count": 2,
   "metadata": {},
   "outputs": [
    {
     "ename": "NameError",
     "evalue": "name 'mosquito' is not defined",
     "output_type": "error",
     "traceback": [
      "\u001b[1;31m---------------------------------------------------------------------------\u001b[0m",
      "\u001b[1;31mNameError\u001b[0m                                 Traceback (most recent call last)",
      "\u001b[1;32m<ipython-input-2-57d6b9b4fc81>\u001b[0m in \u001b[0;36m<module>\u001b[1;34m()\u001b[0m\n\u001b[1;32m----> 1\u001b[1;33m \u001b[0mmosquito\u001b[0m\u001b[1;33m.\u001b[0m\u001b[0mto_csv\u001b[0m\u001b[1;33m(\u001b[0m\u001b[1;34m'result.csv'\u001b[0m\u001b[1;33m)\u001b[0m\u001b[1;33m\u001b[0m\u001b[0m\n\u001b[0m",
      "\u001b[1;31mNameError\u001b[0m: name 'mosquito' is not defined"
     ]
    }
   ],
   "source": [
    "mosquito.to_csv('result.csv')"
   ]
  },
  {
   "cell_type": "code",
   "execution_count": null,
   "metadata": {
    "collapsed": true
   },
   "outputs": [],
   "source": []
  }
 ],
 "metadata": {
  "kernelspec": {
   "display_name": "Python 3",
   "language": "python",
   "name": "python3"
  },
  "language_info": {
   "codemirror_mode": {
    "name": "ipython",
    "version": 3
   },
   "file_extension": ".py",
   "mimetype": "text/x-python",
   "name": "python",
   "nbconvert_exporter": "python",
   "pygments_lexer": "ipython3",
   "version": "3.5.3"
  }
 },
 "nbformat": 4,
 "nbformat_minor": 2
}
