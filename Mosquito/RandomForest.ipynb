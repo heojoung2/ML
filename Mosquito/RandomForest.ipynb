{
 "cells": [
  {
   "cell_type": "code",
   "execution_count": 2,
   "metadata": {},
   "outputs": [
    {
     "name": "stdout",
     "output_type": "stream",
     "text": [
      "Actual outcome :: 1 and Predict outcome :: 1\n",
      "Actual outcome :: 2 and Predict outcome :: 3\n",
      "Actual outcome :: 3 and Predict outcome :: 1\n",
      "Actual outcome :: 1 and Predict outcome :: 5\n",
      "Actual outcome :: 4 and Predict outcome :: 1\n",
      "Actual outcome :: 1 and Predict outcome :: 2\n",
      "Actual outcome :: 1 and Predict outcome :: 1\n",
      "Actual outcome :: 1 and Predict outcome :: 1\n",
      "Actual outcome :: 1 and Predict outcome :: 1\n",
      "Actual outcome :: 4 and Predict outcome :: 1\n",
      "Train Accuracy ::  0.676923076923\n",
      "Test Accuracy ::  0.469532836831\n"
     ]
    },
    {
     "name": "stderr",
     "output_type": "stream",
     "text": [
      "c:\\python35\\lib\\site-packages\\sklearn\\model_selection\\_split.py:2010: FutureWarning: From version 0.21, test_size will always complement train_size unless both are specified.\n",
      "  FutureWarning)\n"
     ]
    }
   ],
   "source": [
    "import csv\n",
    "import pandas as pd\n",
    "from sklearn.model_selection import train_test_split\n",
    "from sklearn.ensemble import RandomForestClassifier\n",
    "from sklearn.metrics import accuracy_score\n",
    "from sklearn.metrics import confusion_matrix\n",
    "\n",
    "def split_dataset(dataset, train_percentage, feature_headers, target_header):\n",
    "\n",
    "\ttrain_x, test_x,train_y,test_y = train_test_split(dataset[feature_headers],dataset[target_header],train_size=train_percentage)\n",
    "\treturn train_x, test_x,train_y,test_y\n",
    "\n",
    "\n",
    "def random_forest_classifier(features, target):\n",
    "\tclf = RandomForestClassifier()\n",
    "\tclf.fit(features, target)\n",
    "\treturn clf\n",
    "\n",
    "def main():\n",
    "\tdataset = pd.read_csv('result.csv',encoding='euc-kr')\n",
    "\n",
    "\tcolumn_list = (dataset.columns.values)\n",
    "\ttrain_x,test_x,train_y,test_y = split_dataset(dataset,0.7,column_list[2:9],column_list[-1])\n",
    "\n",
    "\ttrained_model = random_forest_classifier(train_x,train_y)\n",
    "\tprediction = trained_model.predict(test_x)\n",
    "\n",
    "\tfor i in range(0,10):\n",
    "\t\tprint (\"Actual outcome :: {} and Predict outcome :: {}\".format(list(test_y)[i],prediction[i]))\n",
    "\n",
    "\tprint (\"Train Accuracy :: \",accuracy_score(train_y,trained_model.predict(train_x)))\n",
    "\tprint (\"Test Accuracy :: \", accuracy_score(test_y,prediction))\n",
    "\n",
    "if __name__ == '__main__':\n",
    "\tmain()"
   ]
  },
  {
   "cell_type": "code",
   "execution_count": null,
   "metadata": {
    "collapsed": true
   },
   "outputs": [],
   "source": []
  }
 ],
 "metadata": {
  "kernelspec": {
   "display_name": "Python 3",
   "language": "python",
   "name": "python3"
  },
  "language_info": {
   "codemirror_mode": {
    "name": "ipython",
    "version": 3
   },
   "file_extension": ".py",
   "mimetype": "text/x-python",
   "name": "python",
   "nbconvert_exporter": "python",
   "pygments_lexer": "ipython3",
   "version": "3.5.3"
  }
 },
 "nbformat": 4,
 "nbformat_minor": 2
}
